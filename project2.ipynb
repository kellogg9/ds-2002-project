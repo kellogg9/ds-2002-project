{
 "cells": [
  {
   "cell_type": "markdown",
   "metadata": {},
   "source": [
    "# DS2002 - Nick Kellogg \n",
    "\n",
    "### Importing Libraries"
   ]
  },
  {
   "cell_type": "code",
   "execution_count": null,
   "metadata": {},
   "outputs": [],
   "source": [
    "import os\n",
    "import json\n",
    "import pymongo\n",
    "import pyspark.pandas as pd \n",
    "from pyspark.sql.functions import col\n",
    "from pyspark.sql.types import StructType, StructField, StringType, TimestampType, BinaryType\n",
    "from pyspark.sql.types import ByteType, ShortType, IntegerType, LongType, FloatType, DecimalType"
   ]
  },
  {
   "cell_type": "markdown",
   "metadata": {},
   "source": [
    "### Instantiate Global Variables"
   ]
  },
  {
   "cell_type": "code",
   "execution_count": null,
   "metadata": {},
   "outputs": [],
   "source": [
    "# Azure MySQL Server Connection Information ###################\n",
    "jdbc_hostname = \"vtf6hv-mysql.mysql.database.azure.com\"\n",
    "jdbc_port = 3306\n",
    "src_database = \"aviation_accidents_database\"\n",
    "\n",
    "connection_properties = {\n",
    "\"user\" : \"vtf6hv\",\n",
    "  \"password\" : \"kallie23185\",\n",
    "  \"driver\" : \"org.nickdb.jdbc.Driver\"\n",
    "}\n",
    "\n",
    "# MongoDB Atlas Connection Information ########################\n",
    "atlas_cluster_name = \"cluster0.vtf6hv\"\n",
    "atlas_database_name = \"aviation_accidents_database\"\n",
    "atlas_user_name = \"vtf6hv\"\n",
    "atlas_password = \"kallie23185\"\n",
    "\n",
    "# Data Files (JSON) Information ###############################\n",
    "dst_database = \"aviation_accidents_database_dlh\"\n",
    "\n",
    "base_dir = \"dbfs:/FileStore/ds-2002-project/aviation_accidents_data\"     # update if needed, had to locally download cause was being weird but worked\n",
    "database_dir = f\"{base_dir}/{dst_database}\"\n",
    "\n",
    "data_dir = f\"{base_dir}/retail\"\n",
    "batch_dir = f\"{data_dir}/batch\"\n",
    "stream_dir = f\"{data_dir}/stream\"\n",
    "\n",
    "airline_accidents_stream_dir = f\"{stream_dir}/airline_accidents\"\n",
    "faa_incidents_stream_dir = f\"{stream_dir}/faa_incidents_data\"\n",
    "ntsb_aviation_stream_dir = f\"{stream_dir}/ntsb_aviation_data\"\n",
    "world_aircraft_stream_dir = f\"{database_dir}/world_aircraft_summary_data\"\n",
    "\n",
    "# Delete the Streaming Files ################################## \n",
    "# dbutils.fs.rm(f\"{database_dir}/fact_orders\", True) \n",
    "# dbutils.fs.rm(f\"{database_dir}/fact_purchase_orders\", True) \n",
    "# dbutils.fs.rm(f\"{database_dir}/fact_inventory_transactions\", True)    come back and edit if needed\n",
    "\n",
    "# Delete the Database Files ###################################\n",
    "dbutils.fs.rm(database_dir, True)"
   ]
  },
  {
   "cell_type": "markdown",
   "metadata": {},
   "source": [
    "### Defining Global Functions"
   ]
  },
  {
   "cell_type": "code",
   "execution_count": null,
   "metadata": {},
   "outputs": [],
   "source": [
    "##################################################################################################################\n",
    "# Use this Function to Fetch a DataFrame from the MongoDB Atlas database server Using PyMongo.\n",
    "##################################################################################################################\n",
    "def get_mongo_dataframe(user_id, pwd, cluster_name, db_name, collection, conditions, projection, sort):\n",
    "    '''Create a client connection to MongoDB'''\n",
    "    mongo_uri = f\"mongodb+srv://{user_id}:{pwd}@{cluster_name}.mongodb.net/{db_name}\"\n",
    "    \n",
    "    client = pymongo.MongoClient(mongo_uri)\n",
    "\n",
    "    '''Query MongoDB, and fill a python list with documents to create a DataFrame'''\n",
    "    db = client[db_name]\n",
    "    if conditions and projection and sort:\n",
    "        dframe = pd.DataFrame(list(db[collection].find(conditions, projection).sort(sort)))\n",
    "    elif conditions and projection and not sort:\n",
    "        dframe = pd.DataFrame(list(db[collection].find(conditions, projection)))\n",
    "    else:\n",
    "        dframe = pd.DataFrame(list(db[collection].find()))\n",
    "\n",
    "    client.close()\n",
    "    \n",
    "    return dframe\n",
    "\n",
    "##################################################################################################################\n",
    "# Use this Function to Create New Collections by Uploading CSV file(s) to the MongoDB Atlas server.\n",
    "##################################################################################################################\n",
    "def set_mongo_collections(client, db_name, data_directory, csv_files):              # updated function for CSV Files\n",
    "    db = client[db_name]    \n",
    "        \n",
    "    for collection_name, csv_file in csv_files.items():\n",
    "        db[collection_name].drop()\n",
    "        csv_path = os.path.join(data_directory, csv_file)\n",
    "        try:\n",
    "            df = pd.read_csv(csv_path, encoding='utf-8')  # try with utf-8\n",
    "        except UnicodeDecodeError:\n",
    "            df = pd.read_csv(csv_path, encoding='ISO-8859-1')  # when error throws, do this\n",
    "        records = df.to_dict(orient='records')\n",
    "        db[collection_name].insert_many(records)\n",
    "    \n",
    "    client.close()\n",
    "\n",
    "\n"
   ]
  },
  {
   "cell_type": "markdown",
   "metadata": {},
   "source": [
    "## Populating the Dimensions by Ingesting Reference (Cold-path) Data"
   ]
  },
  {
   "cell_type": "markdown",
   "metadata": {},
   "source": [
    "### Fetching reference data from the Azure MySQL Database"
   ]
  },
  {
   "cell_type": "markdown",
   "metadata": {},
   "source": [
    "#### Creating new MetaBricks Database"
   ]
  },
  {
   "cell_type": "code",
   "execution_count": null,
   "metadata": {},
   "outputs": [],
   "source": [
    "%sql \n",
    "DROP DATABASE IF EXISTS aviation_accidents_database_dlh CASCADE;"
   ]
  },
  {
   "cell_type": "code",
   "execution_count": null,
   "metadata": {},
   "outputs": [],
   "source": [
    "%sql\n",
    "CREATE DATABASE IF NOT EXISTS aviation_accidents_database_dlh\n",
    "COMMENT \"Nick Kellogg - Aviation Accidents Database\"\n",
    "LOCATION \"dbfs:/FileStore/ds-2002-project/aviation_accidents_dlh\"\n",
    "WITH DBPROPERTIES (contains_pii = true, purpose = \"Capstone Project 2\");"
   ]
  },
  {
   "cell_type": "markdown",
   "metadata": {},
   "source": [
    "#### Creating New Tables for other tables that is sourced from DATE table in Azure MySQL Database"
   ]
  },
  {
   "cell_type": "code",
   "execution_count": null,
   "metadata": {},
   "outputs": [],
   "source": [
    "%sql\n",
    "CREATE OR REPLACE TEMPORARY VIEW view_date\n",
    "USING org.apache.spark.sql.jdbc\n",
    "OPTIONS (\n",
    "  url \"jdbc:mysql://vtf6hv-mysql.mysql.database.azure.com:3306/aviation_accidents_database\", \n",
    "  dbtable \"dim_date\",\n",
    "  user \"vtf6hv\",    \n",
    "  password \"Kallie_23185!\"  \n",
    ")"
   ]
  },
  {
   "cell_type": "code",
   "execution_count": null,
   "metadata": {},
   "outputs": [],
   "source": [
    "%sql\n",
    "USE DATABASE aviation_accidents_dlh;\n",
    "\n",
    "CREATE OR REPLACE TABLE aviation_accidents_dlh.dim_date\n",
    "COMMENT \"Date Dimension Table\"\n",
    "LOCATION \"dbfs:/FileStore/ds-2002-project/aviation_accidents_dlh\"\n",
    "AS SELECT * FROM view_date"
   ]
  },
  {
   "cell_type": "markdown",
   "metadata": {},
   "source": [
    "<style scoped>\n",
    "  .table-result-container {\n",
    "    max-height: 300px;\n",
    "    overflow: auto;\n",
    "  }\n",
    "  table, th, td {\n",
    "    border: 1px solid black;\n",
    "    border-collapse: collapse;\n",
    "  }\n",
    "  th, td {\n",
    "    padding: 5px;\n",
    "  }\n",
    "  th {\n",
    "    text-align: left;\n",
    "  }\n",
    "</style><div class='table-result-container'><table class='table-result'><thead style='background-color: white'><tr><th>num_affected_rows</th><th>num_inserted_rows</th></tr></thead><tbody></tbody></table></div>"
   ]
  },
  {
   "cell_type": "markdown",
   "metadata": {},
   "source": [
    "#### Creating new table sourced the aviation dimension data from the Azure SQL Database"
   ]
  },
  {
   "cell_type": "code",
   "execution_count": null,
   "metadata": {},
   "outputs": [],
   "source": [
    "%sql\n",
    "CREATE OR REPLACE TEMPORARY VIEW faa_view_airline_accident\n",
    "USING org.apache.spark.sql.jdbc\n",
    "OPTIONS (\n",
    "  url \"jdbc:mysql://vtf6hv-mysql.mysql.database.azure.com:3306/aviation_accidents_database\",\n",
    "  dbtable \"faa_airline_accidents\",\n",
    "  user \"vtf6hv\",    \n",
    "  password \"Kallie_23185!\"  \n",
    ")"
   ]
  },
  {
   "cell_type": "code",
   "execution_count": null,
   "metadata": {},
   "outputs": [],
   "source": [
    "%sql\n",
    "USE DATABASE aviation_accidents_dlh;\n",
    "\n",
    "CREATE OR REPLACE TABLE aviation_accidents_dlh.faa_airline_accidents\n",
    "COMMENT \"Products Dimension Table\"\n",
    "LOCATION \"dbfs:/FileStore/aviation_accidents_dlh/faa_airline_accidents\"\n",
    "AS SELECT * FROM view_faa_airline_accident"
   ]
  },
  {
   "cell_type": "markdown",
   "metadata": {},
   "source": [
    "<style scoped>\n",
    "  .table-result-container {\n",
    "    max-height: 300px;\n",
    "    overflow: auto;\n",
    "  }\n",
    "  table, th, td {\n",
    "    border: 1px solid black;\n",
    "    border-collapse: collapse;\n",
    "  }\n",
    "  th, td {\n",
    "    padding: 5px;\n",
    "  }\n",
    "  th {\n",
    "    text-align: left;\n",
    "  }\n",
    "</style><div class='table-result-container'><table class='table-result'><thead style='background-color: white'><tr><th>num_affected_rows</th><th>num_inserted_rows</th></tr></thead><tbody></tbody></table></div>"
   ]
  },
  {
   "cell_type": "markdown",
   "metadata": {},
   "source": [
    "### Fetching Reference Data from MongoDB Atlas (displaying my batch too)"
   ]
  },
  {
   "cell_type": "code",
   "execution_count": null,
   "metadata": {},
   "outputs": [],
   "source": [
    "display(dbutils.fs.ls(batch_dir)) "
   ]
  },
  {
   "cell_type": "markdown",
   "metadata": {},
   "source": [
    "<style scoped>\n",
    "  .table-result-container {\n",
    "    max-height: 300px;\n",
    "    overflow: auto;\n",
    "  }\n",
    "  table, th, td {\n",
    "    border: 1px solid black;\n",
    "    border-collapse: collapse;\n",
    "  }\n",
    "  th, td {\n",
    "    padding: 5px;\n",
    "  }\n",
    "  th {\n",
    "    text-align: left;\n",
    "  }\n",
    "</style><div class='table-result-container'><table class='table-result'><thead style='background-color: white'><tr><th>path</th><th>name</th><th>size</th><th>modificationTime</th></tr></thead><tbody><tr><td>dbfs:/FileStore/aviation_accidents_dlh/batch/airline_accidents.csv</td><td>airline_accidents.csv</td><td>11245</td><td>1833195448000</td></tr><tr><td>dbfs:/FileStore/aviation_accidents_dlh/batch/faa_incidents_data.csv</td><td>faa_incidents_data.csv</td><td>9874</td><td>1833195448000</td></tr><tr><td>dbfs:/FileStore/aviation_accidents_dlh/batch/ntsb_aviation_data.csv</td><td>ntsb_aviation_data.csv</td><td>7841</td><td>1833195448000</td></tr><tr><td>dbfs:/FileStore/aviation_accidents_dlh/batch/world_aircract_summary.csv</td><td>world_aircraft_summary.csv</td><td>9412</td><td>1833195448000</td></tr></tbody></table></div>"
   ]
  },
  {
   "cell_type": "markdown",
   "metadata": {},
   "source": [
    "### Creating the new mongoDB database and loading JSON data"
   ]
  },
  {
   "cell_type": "code",
   "execution_count": null,
   "metadata": {},
   "outputs": [],
   "source": [
    "source_dir = '/dbfs//FileStore/aviation_accidents_dlh/batch'\n",
    "csv_files = {\"airline_accidents\" : 'airline_accidents.csv'\n",
    "              , \"faa_incidents\" : 'faa_incidents.csv'\n",
    "              , \"ntsb_aviation\" : 'ntsb_aviation_data.csv'\n",
    "              , \"world_aircraft_summary\" : 'world_aircraft_summary.csv'}\n",
    "\n",
    "set_mongo_collections(atlas_user_name, atlas_password, atlas_cluster_name, atlas_database_name, source_dir, csv_files) "
   ]
  },
  {
   "cell_type": "markdown",
   "metadata": {},
   "source": [
    "<pymongo.results.InsertManyResult at 0xe91d58451ac0>"
   ]
  },
  {
   "cell_type": "markdown",
   "metadata": {},
   "source": [
    "### Getting the Dimension Data from the Mongo Collection"
   ]
  },
  {
   "cell_type": "code",
   "execution_count": null,
   "metadata": {},
   "outputs": [],
   "source": [
    "%scala\n",
    "\n",
    "val df_airline = spark.read.format(\"com.mongodb.spark.sql.DefaultSource\")\n",
    ".option(\"spark.mongodb.input.uri\", atlas_uri)\n",
    ".option(\"database\", \"aviation_accidents_database\")\n",
    ".option(\"collection\", \"airline_accidents\").load()\n",
    ".select(                    \"event_date\",\n",
    "                            \"investigation_type\",\n",
    "                            \"injury_severity\",\n",
    "                            \"aircraft_damage\",\n",
    "                             \"flight_purpose\",\n",
    "                            \"total_fatal_injuries\",\n",
    "                            \"total_serious_injuries\",\n",
    "                            \"total_minor_injuries\",\n",
    "                            \"total_uninjured\",\n",
    "                            \"weather_condition\")\n",
    "\n",
    "display(df_airline.head())"
   ]
  },
  {
   "cell_type": "markdown",
   "metadata": {},
   "source": [
    "<style scoped>\n",
    "  .table-result-container {\n",
    "    max-height: 300px;\n",
    "    overflow: auto;\n",
    "  }\n",
    "  table, th, td {\n",
    "    border: 1px solid black;\n",
    "    border-collapse: collapse;\n",
    "  }\n",
    "  th, td {\n",
    "    padding: 5px;\n",
    "  }\n",
    "  th {\n",
    "    text-align: left;\n",
    "  }\n",
    "</style>\n",
    "<div class='table-result-container'>\n",
    "  <table class='table-result'>\n",
    "    <thead style='background-color: white'>\n",
    "      <tr>\n",
    "        <th>event_date</th>\n",
    "        <th>investigation_type</th>\n",
    "        <th>injury_severity</th>\n",
    "        <th>aircraft_damage</th>\n",
    "        <th>flight_purpose</th>\n",
    "        <th>total_fatal_injuries</th>\n",
    "        <th>total_serious_injuries</th>\n",
    "        <th>total_minor_injuries</th>\n",
    "        <th>total_uninjured</th>\n",
    "        <th>weather_condition</th>\n",
    "      </tr>\n",
    "    </thead>\n",
    "    <tbody>\n",
    "      <tr>\n",
    "        <td>2017-04-01</td>\n",
    "        <td>Preliminary</td>\n",
    "        <td>None</td>\n",
    "        <td>Minor</td>\n",
    "        <td>Personal</td>\n",
    "        <td>0</td>\n",
    "        <td>0</td>\n",
    "        <td>1</td>\n",
    "        <td>1</td>\n",
    "        <td>Clear</td>\n",
    "      </tr>\n",
    "      <tr>\n",
    "        <td>2017-03-15</td>\n",
    "        <td>Final</td>\n",
    "        <td>Serious</td>\n",
    "        <td>Major</td>\n",
    "        <td>Instructional</td>\n",
    "        <td>0</td>\n",
    "        <td>1</td>\n",
    "        <td>0</td>\n",
    "        <td>0</td>\n",
    "        <td>Cloudy</td>\n",
    "      </tr>\n",
    "      <tr>\n",
    "        <td>2017-02-28</td>\n",
    "        <td>Preliminary</td>\n",
    "        <td>Minor</td>\n",
    "        <td>Destroyed</td>\n",
    "        <td>Charter</td>\n",
    "        <td>2</td>\n",
    "        <td>0</td>\n",
    "        <td>3</td>\n",
    "        <td>0</td>\n",
    "        <td>Rain</td>\n",
    "      </tr>\n",
    "      <tr>\n",
    "        <td>2019-01-20</td>\n",
    "        <td>Final</td>\n",
    "        <td>Fatal</td>\n",
    "        <td>Substantial</td>\n",
    "        <td>Commercial</td>\n",
    "        <td>1</td>\n",
    "        <td>0</td>\n",
    "        <td>0</td>\n",
    "        <td>2</td>\n",
    "        <td>Fog</td>\n",
    "      </tr>\n",
    "      <tr>\n",
    "        <td>2019-05-05</td>\n",
    "        <td>Preliminary</td>\n",
    "        <td>None</td>\n",
    "        <td>Minor</td>\n",
    "        <td>Personal</td>\n",
    "        <td>0</td>\n",
    "        <td>0</td>\n",
    "        <td>1</td>\n",
    "        <td>2</td>\n",
    "        <td>Clear</td>\n",
    "      </tr>\n",
    "      <tr>\n",
    "        <td>2018-04-20</td>\n",
    "        <td>Final</td>\n",
    "        <td>None</td>\n",
    "        <td>Minor</td>\n",
    "        <td>Personal</td>\n",
    "        <td>3</td>\n",
    "        <td>0</td>\n",
    "        <td>0</td>\n",
    "        <td>1</td>\n",
    "        <td>Clear</td>\n",
    "      </tr>\n",
    "      <tr>\n",
    "        <td>2018-01-13</td>\n",
    "        <td>Preliminary</td>\n",
    "        <td>Minor</td>\n",
    "        <td>Minor</td>\n",
    "        <td>Personal</td>\n",
    "        <td>1</td>\n",
    "        <td>0</td>\n",
    "        <td>1</td>\n",
    "        <td>2</td>\n",
    "        <td>Clear</td>\n",
    "      </tr>\n",
    "      <tr>\n",
    "        <td>2019-11-13</td>\n",
    "        <td>Final</td>\n",
    "        <td>None</td>\n",
    "        <td>Minor</td>\n",
    "        <td>Personal</td>\n",
    "        <td>0</td>\n",
    "        <td>0</td>\n",
    "        <td>1</td>\n",
    "        <td>2</td>\n",
    "        <td>Clear</td>\n",
    "      </tr>\n",
    "      <tr>\n",
    "        <td>2020-07-17</td>\n",
    "        <td>Preliminary</td>\n",
    "        <td>None</td>\n",
    "        <td>Minor</td>\n",
    "        <td>Personal</td>\n",
    "        <td>3</td>\n",
    "        <td>0</td>\n",
    "        <td>0</td>\n",
    "        <td>1</td>\n",
    "        <td>Fog</td>\n",
    "      </tr>\n",
    "      <tr>\n",
    "        <td>2019-07-01</td>\n",
    "        <td>Final</td>\n",
    "        <td>Minor</td>\n",
    "        <td>Major</td>\n",
    "        <td>Personal</td>\n",
    "        <td>0</td>\n",
    "        <td>0</td>\n",
    "        <td>1</td>\n",
    "        <td>2</td>\n",
    "        <td>Clear</td>\n",
    "      </tr>\n",
    "      <tr>\n",
    "        <td>2019-09-11</td>\n",
    "        <td>Preliminary</td>\n",
    "        <td>None</td>\n",
    "        <td>Minor</td>\n",
    "        <td>Personal</td>\n",
    "        <td>0</td>\n",
    "        <td>0</td>\n",
    "        <td>1</td>\n",
    "        <td>2</td>\n",
    "        <td>Clear</td>\n",
    "      </tr>\n",
    "      <tr>\n",
    "        <td>2017-10-01</td>\n",
    "        <td>Preliminary</td>\n",
    "        <td>None</td>\n",
    "        <td>Minor</td>\n",
    "        <td>Personal</td>\n",
    "        <td>0</td>\n",
    "        <td>0</td>\n",
    "        <td>1</td>\n",
    "        <td>1</td>\n",
    "        <td>Clear</td>\n",
    "      </tr>\n",
    "    </tbody>\n",
    "  </table>\n",
    "</div>\n"
   ]
  }
 ],
 "metadata": {
  "kernelspec": {
   "display_name": "Python 3",
   "language": "python",
   "name": "python3"
  },
  "language_info": {
   "codemirror_mode": {
    "name": "ipython",
    "version": 3
   },
   "file_extension": ".py",
   "mimetype": "text/x-python",
   "name": "python",
   "nbconvert_exporter": "python",
   "pygments_lexer": "ipython3",
   "version": "3.10.5"
  }
 },
 "nbformat": 4,
 "nbformat_minor": 2
}
